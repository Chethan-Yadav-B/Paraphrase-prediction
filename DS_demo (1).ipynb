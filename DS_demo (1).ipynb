{
  "nbformat": 4,
  "nbformat_minor": 0,
  "metadata": {
    "colab": {
      "provenance": []
    },
    "kernelspec": {
      "name": "python3",
      "display_name": "Python 3"
    },
    "language_info": {
      "name": "python"
    }
  },
  "cells": [
    {
      "cell_type": "markdown",
      "source": [
        "Paraphrase prediction for given pair of sentence"
      ],
      "metadata": {
        "id": "D0LgIoj_RRDu"
      }
    },
    {
      "cell_type": "code",
      "source": [
        "import pandas as pd\n",
        "import numpy as np\n",
        "import matplotlib.pyplot as plt\n",
        "import seaborn as sns\n",
        "from sklearn.feature_extraction.text import TfidfVectorizer\n",
        "from sklearn.model_selection import train_test_split, GridSearchCV\n",
        "from sklearn.linear_model import SGDClassifier\n",
        "from sklearn.metrics import accuracy_score, classification_report\n",
        "\n"
      ],
      "metadata": {
        "id": "V42mg4q8rhKJ"
      },
      "execution_count": 1,
      "outputs": []
    },
    {
      "cell_type": "code",
      "source": [
        "\n",
        "train_df = pd.read_csv('/content/labeled_final_train.csv')\n",
        "test_df = pd.read_csv('/content/labeled_final_test.csv')\n",
        "\n",
        "train_df.head()\n"
      ],
      "metadata": {
        "id": "PZ8eJQxFRe4m",
        "colab": {
          "base_uri": "https://localhost:8080/",
          "height": 206
        },
        "outputId": "b61061b5-02a7-4713-ad05-f45220e3bb66"
      },
      "execution_count": 2,
      "outputs": [
        {
          "output_type": "execute_result",
          "data": {
            "text/plain": [
              "   id                                          sentence1  \\\n",
              "0   1  In Paris , in October 1560 , he secretly met t...   \n",
              "1   2  The NBA season of 1975 -- 76 was the 30th seas...   \n",
              "2   3  There are also specific discussions , public p...   \n",
              "3   4  When comparable rates of flow can be maintaine...   \n",
              "4   5  It is the seat of Zerendi District in Akmola R...   \n",
              "\n",
              "                                           sentence2  label  \n",
              "0  In October 1560 , he secretly met with the Eng...      0  \n",
              "1  The 1975 -- 76 season of the National Basketba...      1  \n",
              "2  There are also public discussions , profile sp...      0  \n",
              "3  The results are high when comparable flow rate...      1  \n",
              "4  It is the seat of the district of Zerendi in A...      1  "
            ],
            "text/html": [
              "\n",
              "  <div id=\"df-ab9553ae-850a-44a6-a010-46b1af5d8f66\">\n",
              "    <div class=\"colab-df-container\">\n",
              "      <div>\n",
              "<style scoped>\n",
              "    .dataframe tbody tr th:only-of-type {\n",
              "        vertical-align: middle;\n",
              "    }\n",
              "\n",
              "    .dataframe tbody tr th {\n",
              "        vertical-align: top;\n",
              "    }\n",
              "\n",
              "    .dataframe thead th {\n",
              "        text-align: right;\n",
              "    }\n",
              "</style>\n",
              "<table border=\"1\" class=\"dataframe\">\n",
              "  <thead>\n",
              "    <tr style=\"text-align: right;\">\n",
              "      <th></th>\n",
              "      <th>id</th>\n",
              "      <th>sentence1</th>\n",
              "      <th>sentence2</th>\n",
              "      <th>label</th>\n",
              "    </tr>\n",
              "  </thead>\n",
              "  <tbody>\n",
              "    <tr>\n",
              "      <th>0</th>\n",
              "      <td>1</td>\n",
              "      <td>In Paris , in October 1560 , he secretly met t...</td>\n",
              "      <td>In October 1560 , he secretly met with the Eng...</td>\n",
              "      <td>0</td>\n",
              "    </tr>\n",
              "    <tr>\n",
              "      <th>1</th>\n",
              "      <td>2</td>\n",
              "      <td>The NBA season of 1975 -- 76 was the 30th seas...</td>\n",
              "      <td>The 1975 -- 76 season of the National Basketba...</td>\n",
              "      <td>1</td>\n",
              "    </tr>\n",
              "    <tr>\n",
              "      <th>2</th>\n",
              "      <td>3</td>\n",
              "      <td>There are also specific discussions , public p...</td>\n",
              "      <td>There are also public discussions , profile sp...</td>\n",
              "      <td>0</td>\n",
              "    </tr>\n",
              "    <tr>\n",
              "      <th>3</th>\n",
              "      <td>4</td>\n",
              "      <td>When comparable rates of flow can be maintaine...</td>\n",
              "      <td>The results are high when comparable flow rate...</td>\n",
              "      <td>1</td>\n",
              "    </tr>\n",
              "    <tr>\n",
              "      <th>4</th>\n",
              "      <td>5</td>\n",
              "      <td>It is the seat of Zerendi District in Akmola R...</td>\n",
              "      <td>It is the seat of the district of Zerendi in A...</td>\n",
              "      <td>1</td>\n",
              "    </tr>\n",
              "  </tbody>\n",
              "</table>\n",
              "</div>\n",
              "      <button class=\"colab-df-convert\" onclick=\"convertToInteractive('df-ab9553ae-850a-44a6-a010-46b1af5d8f66')\"\n",
              "              title=\"Convert this dataframe to an interactive table.\"\n",
              "              style=\"display:none;\">\n",
              "        \n",
              "  <svg xmlns=\"http://www.w3.org/2000/svg\" height=\"24px\"viewBox=\"0 0 24 24\"\n",
              "       width=\"24px\">\n",
              "    <path d=\"M0 0h24v24H0V0z\" fill=\"none\"/>\n",
              "    <path d=\"M18.56 5.44l.94 2.06.94-2.06 2.06-.94-2.06-.94-.94-2.06-.94 2.06-2.06.94zm-11 1L8.5 8.5l.94-2.06 2.06-.94-2.06-.94L8.5 2.5l-.94 2.06-2.06.94zm10 10l.94 2.06.94-2.06 2.06-.94-2.06-.94-.94-2.06-.94 2.06-2.06.94z\"/><path d=\"M17.41 7.96l-1.37-1.37c-.4-.4-.92-.59-1.43-.59-.52 0-1.04.2-1.43.59L10.3 9.45l-7.72 7.72c-.78.78-.78 2.05 0 2.83L4 21.41c.39.39.9.59 1.41.59.51 0 1.02-.2 1.41-.59l7.78-7.78 2.81-2.81c.8-.78.8-2.07 0-2.86zM5.41 20L4 18.59l7.72-7.72 1.47 1.35L5.41 20z\"/>\n",
              "  </svg>\n",
              "      </button>\n",
              "      \n",
              "  <style>\n",
              "    .colab-df-container {\n",
              "      display:flex;\n",
              "      flex-wrap:wrap;\n",
              "      gap: 12px;\n",
              "    }\n",
              "\n",
              "    .colab-df-convert {\n",
              "      background-color: #E8F0FE;\n",
              "      border: none;\n",
              "      border-radius: 50%;\n",
              "      cursor: pointer;\n",
              "      display: none;\n",
              "      fill: #1967D2;\n",
              "      height: 32px;\n",
              "      padding: 0 0 0 0;\n",
              "      width: 32px;\n",
              "    }\n",
              "\n",
              "    .colab-df-convert:hover {\n",
              "      background-color: #E2EBFA;\n",
              "      box-shadow: 0px 1px 2px rgba(60, 64, 67, 0.3), 0px 1px 3px 1px rgba(60, 64, 67, 0.15);\n",
              "      fill: #174EA6;\n",
              "    }\n",
              "\n",
              "    [theme=dark] .colab-df-convert {\n",
              "      background-color: #3B4455;\n",
              "      fill: #D2E3FC;\n",
              "    }\n",
              "\n",
              "    [theme=dark] .colab-df-convert:hover {\n",
              "      background-color: #434B5C;\n",
              "      box-shadow: 0px 1px 3px 1px rgba(0, 0, 0, 0.15);\n",
              "      filter: drop-shadow(0px 1px 2px rgba(0, 0, 0, 0.3));\n",
              "      fill: #FFFFFF;\n",
              "    }\n",
              "  </style>\n",
              "\n",
              "      <script>\n",
              "        const buttonEl =\n",
              "          document.querySelector('#df-ab9553ae-850a-44a6-a010-46b1af5d8f66 button.colab-df-convert');\n",
              "        buttonEl.style.display =\n",
              "          google.colab.kernel.accessAllowed ? 'block' : 'none';\n",
              "\n",
              "        async function convertToInteractive(key) {\n",
              "          const element = document.querySelector('#df-ab9553ae-850a-44a6-a010-46b1af5d8f66');\n",
              "          const dataTable =\n",
              "            await google.colab.kernel.invokeFunction('convertToInteractive',\n",
              "                                                     [key], {});\n",
              "          if (!dataTable) return;\n",
              "\n",
              "          const docLinkHtml = 'Like what you see? Visit the ' +\n",
              "            '<a target=\"_blank\" href=https://colab.research.google.com/notebooks/data_table.ipynb>data table notebook</a>'\n",
              "            + ' to learn more about interactive tables.';\n",
              "          element.innerHTML = '';\n",
              "          dataTable['output_type'] = 'display_data';\n",
              "          await google.colab.output.renderOutput(dataTable, element);\n",
              "          const docLink = document.createElement('div');\n",
              "          docLink.innerHTML = docLinkHtml;\n",
              "          element.appendChild(docLink);\n",
              "        }\n",
              "      </script>\n",
              "    </div>\n",
              "  </div>\n",
              "  "
            ]
          },
          "metadata": {},
          "execution_count": 2
        }
      ]
    },
    {
      "cell_type": "code",
      "source": [
        "\n",
        "train_df['text'] = train_df['sentence1'] + ' ' + train_df['sentence2']\n",
        "test_df['text'] = test_df['sentence1'] + ' ' + test_df['sentence2']\n",
        "\n"
      ],
      "metadata": {
        "id": "RbR8z-c5Rjv1"
      },
      "execution_count": 3,
      "outputs": []
    },
    {
      "cell_type": "code",
      "source": [
        "\n",
        "train_df.drop_duplicates(inplace=True)\n",
        "train_df.dropna(inplace=True)\n",
        "\n"
      ],
      "metadata": {
        "id": "DzWa618KRm09"
      },
      "execution_count": 4,
      "outputs": []
    },
    {
      "cell_type": "code",
      "source": [
        "\n",
        "tfidf_vectorizer = TfidfVectorizer(use_idf=True, max_features=5000)\n",
        "X_train = tfidf_vectorizer.fit_transform(train_df['text'])\n",
        "y_train = train_df['label']\n",
        "X_test = tfidf_vectorizer.transform(test_df['text'])\n",
        "y_test = test_df['label']\n",
        "\n"
      ],
      "metadata": {
        "id": "sXlkIyFJRp8O"
      },
      "execution_count": 5,
      "outputs": []
    },
    {
      "cell_type": "code",
      "source": [
        "\n",
        "sns.countplot(x='label', data=train_df)\n",
        "plt.show()\n",
        "\n"
      ],
      "metadata": {
        "id": "th87V-9oRscG",
        "colab": {
          "base_uri": "https://localhost:8080/",
          "height": 449
        },
        "outputId": "64e90d86-07b7-4cc7-e253-9429a897cdd3"
      },
      "execution_count": 6,
      "outputs": [
        {
          "output_type": "display_data",
          "data": {
            "text/plain": [
              "<Figure size 640x480 with 1 Axes>"
            ],
            "image/png": "[encoded data removed]"
          },
          "metadata": {}
        }
      ]
    },
    {
      "cell_type": "code",
      "source": [
        "\n",
        "sgd_clf = SGDClassifier(loss='modified_huber', penalty='l2', alpha=0.0001, max_iter=500, random_state=42)\n",
        "param_grid = {'alpha': [0.0001, 0.001, 0.01], 'penalty': ['l1', 'l2']}\n",
        "grid_search = GridSearchCV(sgd_clf, param_grid, cv=5)\n",
        "grid_search.fit(X_train, y_train)\n",
        "best_sgd_clf = grid_search.best_estimator_\n",
        "\n"
      ],
      "metadata": {
        "id": "XD0xCaDGRu4F"
      },
      "execution_count": 7,
      "outputs": []
    },
    {
      "cell_type": "code",
      "source": [
        "\n",
        "y_test_pred = best_sgd_clf.predict(X_test)\n",
        "print(\"Accuracy on test set:\", accuracy_score(y_test, y_test_pred))\n",
        "print(\"Classification report on test set:\\n\", classification_report(y_test, y_test_pred))\n",
        "\n"
      ],
      "metadata": {
        "id": "KaJic24kRx21",
        "colab": {
          "base_uri": "https://localhost:8080/"
        },
        "outputId": "1fe0bac3-0500-45e0-ca5d-3f744020c40d"
      },
      "execution_count": 8,
      "outputs": [
        {
          "output_type": "stream",
          "name": "stdout",
          "text": [
            "Accuracy on test set: 0.561625\n",
            "Classification report on test set:\n",
            "               precision    recall  f1-score   support\n",
            "\n",
            "           0       0.57      0.88      0.69      4464\n",
            "           1       0.51      0.16      0.24      3536\n",
            "\n",
            "    accuracy                           0.56      8000\n",
            "   macro avg       0.54      0.52      0.47      8000\n",
            "weighted avg       0.54      0.56      0.49      8000\n",
            "\n"
          ]
        }
      ]
    },
    {
      "cell_type": "code",
      "source": [
        "\n",
        "input_sentence1 = input('Enter the first sentence: ')\n",
        "input_sentence2 = input('Enter the second sentence: ')\n",
        "input_X = tfidf_vectorizer.transform([input_sentence1 + ' ' + input_sentence2])\n",
        "input_pred = best_sgd_clf.predict(input_X)\n",
        "print('Prediction:', input_pred[0])\n",
        "if input_pred[0] == 1:\n",
        "    print('The input sentences are paraphrases.')\n",
        "else:\n",
        "    print('The input sentences are not paraphrases.')"
      ],
      "metadata": {
        "id": "T4LYO1mrRz38",
        "colab": {
          "base_uri": "https://localhost:8080/"
        },
        "outputId": "2b25ad24-7527-4596-f059-82b2a6dc9dff"
      },
      "execution_count": 9,
      "outputs": [
        {
          "output_type": "stream",
          "name": "stdout",
          "text": [
            "Enter the first sentence: he is a hero of the film\n",
            "Enter the second sentence: the film he is a hero\n",
            "Prediction: 1\n",
            "The input sentences are paraphrases.\n"
          ]
        }
      ]
    }
  ]
}